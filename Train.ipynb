{
 "cells": [
  {
   "cell_type": "code",
   "execution_count": 12,
   "metadata": {},
   "outputs": [
    {
     "name": "stdout",
     "output_type": "stream",
     "text": [
      "GPU Available:  True\n"
     ]
    }
   ],
   "source": [
    "import numpy as np # linear algebra\n",
    "import pandas as pd\n",
    "from torchvision import transforms\n",
    "\n",
    "import torch\n",
    "import torch.nn as nn\n",
    "from torch.utils.data import Dataset, DataLoader\n",
    "from torchvision import datasets\n",
    "from torchvision.transforms import ToTensor\n",
    "import torchvision.models as models\n",
    "# from torchvision.models import vgg16\n",
    "\n",
    "import torch.nn.functional as F\n",
    "from torchvision.utils import make_grid\n",
    "\n",
    "import cv2\n",
    "import os, shutil\n",
    "from PIL import Image\n",
    "# import matplotlib.pyplot as plt\n",
    "\n",
    "import sklearn\n",
    "from sklearn.model_selection import train_test_split\n",
    "\n",
    "import tqdm\n",
    "from tqdm import tqdm\n",
    "import time\n",
    "\n",
    "# # From our class\n",
    "from Utils.ImageDataset import ImageDataset1, ImageDataset2\n",
    "from Utils.skim_net import SkimNetwork, EvalNetwork\n",
    "from Utils.Losses import FocalLoss\n",
    "\n",
    "# from Utils.LSTM import LSTMCells\n",
    "\n",
    "# # from Utils.ResNetModel import ResNet50\n",
    "\n",
    "device = torch.device('cuda' if torch.cuda.is_available() else 'cpu')\n",
    "x = torch.cuda.is_available()\n",
    "print(\"GPU Available: \", x)"
   ]
  },
  {
   "cell_type": "code",
   "execution_count": 21,
   "metadata": {},
   "outputs": [
    {
     "data": {
      "text/plain": [
       "505"
      ]
     },
     "execution_count": 21,
     "metadata": {},
     "output_type": "execute_result"
    }
   ],
   "source": [
    "i, j, k, l, m = 0, 0, 0, 0, 0\n",
    "Class = ['A001', 'A002', 'A003', 'A004', 'A005']\n",
    "List = []\n",
    "for vid in os.listdir(\"Frames_5_Classes\") :\n",
    "    if vid[16:20] in Class :\n",
    "        if vid[16:20] == \"A001\" and i <= 100:\n",
    "            i += 1\n",
    "            List.append(vid)\n",
    "        if vid[16:20] == \"A002\" and j <= 100:\n",
    "            j += 1\n",
    "            List.append(vid)\n",
    "        if vid[16:20] == \"A003\" and k <= 100:\n",
    "            k += 1\n",
    "            List.append(vid)\n",
    "        if vid[16:20] == \"A004\" and l <= 100:\n",
    "            l += 1\n",
    "            List.append(vid)\n",
    "        if vid[16:20] == \"A005\" and m <= 100:\n",
    "            m += 1\n",
    "            List.append(vid)\n",
    "\n",
    "len(List)"
   ]
  },
  {
   "cell_type": "code",
   "execution_count": 26,
   "metadata": {},
   "outputs": [],
   "source": [
    "for l in List:\n",
    "    shutil.move(\"Frames_5_Classes\\\\\" + l, \"MiniDataFrame\\\\\"+l)"
   ]
  },
  {
   "cell_type": "code",
   "execution_count": null,
   "metadata": {},
   "outputs": [],
   "source": []
  }
 ],
 "metadata": {
  "kernelspec": {
   "display_name": "base",
   "language": "python",
   "name": "python3"
  },
  "language_info": {
   "codemirror_mode": {
    "name": "ipython",
    "version": 3
   },
   "file_extension": ".py",
   "mimetype": "text/x-python",
   "name": "python",
   "nbconvert_exporter": "python",
   "pygments_lexer": "ipython3",
   "version": "3.11.5"
  }
 },
 "nbformat": 4,
 "nbformat_minor": 2
}
